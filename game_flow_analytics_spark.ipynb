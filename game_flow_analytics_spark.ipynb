{
 "cells": [
  {
   "cell_type": "markdown",
   "id": "964a1302-357c-4df9-adbe-ec311ffff3f2",
   "metadata": {},
   "source": [
    "## 🧠 HaloScop\n",
    "\n",
    "This project develops a performance-optimized Spark pipeline to analyze multiplayer game data using four core datasets: `matches`, `match_details`, `medals_matches_players`, and `medals`.\n",
    "\n",
    "The analysis focuses on answering key gameplay questions:\n",
    "- Which players average the most kills per game?\n",
    "- Which playlists are played most frequently?\n",
    "- Which maps host the most matches?\n",
    "- Where are 'Killing Spree' medals most commonly earned?\n",
    "\n",
    "To ensure scalability and efficiency, the pipeline applies Spark best practices:\n",
    "- Disables automatic broadcast joins to retain full control over join strategies\n",
    "- Broadcasts small dimension tables explicitly to reduce shuffle\n",
    "- Repartitions large fact tables to simulate bucketed join behavior\n",
    "- Experiments with `.sortWithinPartitions()` to compare storage efficiency based on sort keys\n"
   ]
  },
  {
   "cell_type": "code",
   "execution_count": 2,
   "id": "09124d53-4a29-4316-9d3d-2136285ad560",
   "metadata": {},
   "outputs": [],
   "source": [
    "from pyspark.sql import SparkSession\n",
    "from pyspark.sql.functions import broadcast, col, avg, desc"
   ]
  },
  {
   "cell_type": "markdown",
   "id": "64da8f3a-07a1-4ef8-9b99-79a1fe794ae3",
   "metadata": {},
   "source": [
    "## 🔧 Spark Session Initialization\n",
    "\n",
    "We begin by initializing a Spark session named `\"SparkFundamentalsHomework\"`. As a best practice for join performance tuning, we **disable automatic broadcast joins** using:\n",
    "\n",
    "```python\n",
    "spark.conf.set(\"spark.sql.autoBroadcastJoinThreshold\", \"-1\")\n"
   ]
  },
  {
   "cell_type": "code",
   "execution_count": 4,
   "id": "670a2401-2d5e-46ed-82c1-3c22e1546f1e",
   "metadata": {},
   "outputs": [],
   "source": [
    "spark = SparkSession.builder.appName(\"SparkFundamentalsHomework\").getOrCreate()\n",
    "spark.conf.set(\"spark.sql.autoBroadcastJoinThreshold\", \"-1\")"
   ]
  },
  {
   "cell_type": "markdown",
   "id": "c79a2136-a106-4013-b070-d5b1a40b7446",
   "metadata": {},
   "source": [
    "\n",
    "---\n",
    "\n",
    "### 📁 Loading the Data\n",
    "\n",
    "```markdown\n",
    "## 📁 Reading Input Data\n",
    "\n",
    "We read five CSV files representing different aspects of gameplay:\n",
    "\n",
    "- `matches.csv`: Match-level metadata\n",
    "- `match_details.csv`: Player-level stats per match\n",
    "- `medals_matches_players.csv`: Medals earned by players per match\n",
    "- `medals.csv`: Lookup for medal names and categories\n",
    "- `maps.csv`: Lookup for map names and descriptions\n",
    "\n",
    "The small dimension tables (`medals`, `maps`) are explicitly **broadcasted** using Spark's `broadcast()` function to optimize join performance later in the pipeline.\n"
   ]
  },
  {
   "cell_type": "code",
   "execution_count": 5,
   "id": "7550d09d-e417-49c4-a383-0d0ef7f312d4",
   "metadata": {},
   "outputs": [],
   "source": [
    "# Read data\n",
    "matches_df = spark.read.option(\"header\", \"true\").csv(\"/home/iceberg/data/matches.csv\")\n",
    "match_details_df = spark.read.option(\"header\", \"true\").csv(\"/home/iceberg/data/match_details.csv\")\n",
    "medals_matches_players_df = spark.read.option(\"header\", \"true\").csv(\"/home/iceberg/data/medals_matches_players.csv\")\n",
    "# 2. Read data and explicitly broadcast medals and maps\n",
    "#    (Explicit broadcast JOINs for small dimension tables)\n",
    "medals_df = broadcast(spark.read.option(\"header\", \"true\").csv(\"/home/iceberg/data/medals.csv\"))\n",
    "maps_df = broadcast(spark.read.option(\"header\", \"true\").csv(\"/home/iceberg/data/maps.csv\"))"
   ]
  },
  {
   "cell_type": "code",
   "execution_count": 26,
   "id": "6a216ecf-9ab8-4472-8c16-a5eff0e29b9c",
   "metadata": {},
   "outputs": [
    {
     "name": "stdout",
     "output_type": "stream",
     "text": [
      "root\n",
      " |-- match_id: string (nullable = true)\n",
      " |-- mapid: string (nullable = true)\n",
      " |-- is_team_game: string (nullable = true)\n",
      " |-- playlist_id: string (nullable = true)\n",
      " |-- game_variant_id: string (nullable = true)\n",
      " |-- is_match_over: string (nullable = true)\n",
      " |-- completion_date: string (nullable = true)\n",
      " |-- match_duration: string (nullable = true)\n",
      " |-- game_mode: string (nullable = true)\n",
      " |-- map_variant_id: string (nullable = true)\n",
      "\n",
      "+--------------------+--------------------+------------+--------------------+--------------------+-------------+--------------------+--------------+---------+--------------------+\n",
      "|            match_id|               mapid|is_team_game|         playlist_id|     game_variant_id|is_match_over|     completion_date|match_duration|game_mode|      map_variant_id|\n",
      "+--------------------+--------------------+------------+--------------------+--------------------+-------------+--------------------+--------------+---------+--------------------+\n",
      "|11de1a94-8d07-416...|c7edbf0f-f206-11e...|        true|f72e0ef0-7c4a-430...|1e473914-46e4-408...|         true|2016-02-22 00:00:...|          NULL|     NULL|                NULL|\n",
      "|d3643e71-3e51-43e...|cb914b9e-f206-11e...|       false|d0766624-dbd7-453...|257a305e-4dd3-41f...|         true|2016-02-14 00:00:...|          NULL|     NULL|                NULL|\n",
      "|d78d2aae-36e4-48a...|c7edbf0f-f206-11e...|        true|f72e0ef0-7c4a-430...|1e473914-46e4-408...|         true|2016-03-24 00:00:...|          NULL|     NULL|55e5ee2e-88df-465...|\n",
      "|b440069e-ec5f-4f5...|c7edbf0f-f206-11e...|        true|f72e0ef0-7c4a-430...|1e473914-46e4-408...|         true|2015-12-23 00:00:...|          NULL|     NULL|ec3eef73-13e3-4d4...|\n",
      "|1dd475fc-ee6b-4e1...|c93d708f-f206-11e...|        true|0e39ead4-383b-445...|42f97cca-2cb4-497...|         true|2016-04-07 00:00:...|          NULL|     NULL|                NULL|\n",
      "+--------------------+--------------------+------------+--------------------+--------------------+-------------+--------------------+--------------+---------+--------------------+\n",
      "only showing top 5 rows\n",
      "\n"
     ]
    }
   ],
   "source": [
    "matches_df.printSchema()\n",
    "matches_df.show(5)"
   ]
  },
  {
   "cell_type": "code",
   "execution_count": 15,
   "id": "b50756e6-790c-4844-978a-f5404f622441",
   "metadata": {},
   "outputs": [
    {
     "name": "stdout",
     "output_type": "stream",
     "text": [
      "root\n",
      " |-- mapid: string (nullable = true)\n",
      " |-- name: string (nullable = true)\n",
      " |-- description: string (nullable = true)\n",
      "\n",
      "+--------------------+-------------------+--------------------+\n",
      "|               mapid|               name|         description|\n",
      "+--------------------+-------------------+--------------------+\n",
      "|c93d708f-f206-11e...|              Urban|Andesia was the c...|\n",
      "|cb251c51-f206-11e...|     Raid on Apex 7|This unbroken rin...|\n",
      "|c854e54f-f206-11e...|March on Stormbreak|                NULL|\n",
      "|c8d69870-f206-11e...| Escape from A.R.C.|Scientists flocke...|\n",
      "|73ed1fd0-45e5-4bb...|             Osiris|                NULL|\n",
      "+--------------------+-------------------+--------------------+\n",
      "only showing top 5 rows\n",
      "\n"
     ]
    },
    {
     "name": "stderr",
     "output_type": "stream",
     "text": [
      "25/07/10 18:17:46 WARN HintErrorLogger: A join hint (strategy=broadcast) is specified but it is not part of a join relation.\n"
     ]
    }
   ],
   "source": [
    "maps_df.printSchema()\n",
    "maps_df.show(5)"
   ]
  },
  {
   "cell_type": "markdown",
   "id": "ec5b02b9-4613-4ae5-bf03-b0cfb4fae89c",
   "metadata": {},
   "source": [
    "## 🪣 Bucketing for Optimized Joins\n",
    "\n",
    "To simulate bucketed join behavior in Spark, all large fact tables are repartitioned on the `match_id` column using 16 partitions. This approach ensures that matching rows from different tables are colocated in the same partition, reducing shuffle overhead during joins.\n",
    "\n",
    "By aligning the number of partitions and the partitioning column across tables, Spark can efficiently execute join operations, mimicking the performance benefits of bucketed tables without requiring full Hive-style bucketing.\n"
   ]
  },
  {
   "cell_type": "code",
   "execution_count": 6,
   "id": "5e980d0d-6733-4187-a24c-00cad72e4c7b",
   "metadata": {},
   "outputs": [],
   "source": [
    "bucketed_matches = matches_df.repartition(16, \"match_id\")\n",
    "bucketed_match_details = match_details_df.repartition(16, \"match_id\")\n",
    "bucketed_medals_matches_players = medals_matches_players_df.repartition(16, \"match_id\")"
   ]
  },
  {
   "cell_type": "markdown",
   "id": "c55d3987-03ca-4b23-b227-bc4ce1abf5ed",
   "metadata": {},
   "source": [
    "## 🎯 Players with the Highest Average Kills per Game\n",
    "\n",
    "- Joins player-level match details with match records on `match_id`\n",
    "- Groups results by `player_gamertag`\n",
    "- Calculates the average number of kills per player\n",
    "- Sorts players by descending average kills\n",
    "- Displays the top 10 players based on kill efficiency\n"
   ]
  },
  {
   "cell_type": "code",
   "execution_count": 27,
   "id": "7d4740fc-5a8c-47b4-b9e3-9387d9b2f637",
   "metadata": {},
   "outputs": [
    {
     "name": "stderr",
     "output_type": "stream",
     "text": [
      "[Stage 72:==============================================>      (174 + 11) / 200]"
     ]
    },
    {
     "name": "stdout",
     "output_type": "stream",
     "text": [
      "+---------------+------------------+\n",
      "|player_gamertag|avg_kills_per_game|\n",
      "+---------------+------------------+\n",
      "|   gimpinator14|             109.0|\n",
      "|  I Johann117 I|              96.0|\n",
      "|BudgetLegendary|              83.0|\n",
      "|      GsFurreal|              75.0|\n",
      "|   Sexy is Back|              73.0|\n",
      "|   killerguy789|              68.0|\n",
      "|THC GUILTYSPARK|              67.0|\n",
      "|PrimePromethean|              66.0|\n",
      "|    HisLattice1|              66.0|\n",
      "|     taurenmonk|              64.0|\n",
      "+---------------+------------------+\n",
      "only showing top 10 rows\n",
      "\n"
     ]
    },
    {
     "name": "stderr",
     "output_type": "stream",
     "text": [
      "                                                                                "
     ]
    }
   ],
   "source": [
    "\n",
    "\n",
    "kills_per_game = (\n",
    "    bucketed_match_details\n",
    "    .join(bucketed_matches, \"match_id\")\n",
    "    .groupBy(\"player_gamertag\")\n",
    "    .agg(avg(col(\"player_total_kills\")).alias(\"avg_kills_per_game\"))\n",
    "    .orderBy(desc(\"avg_kills_per_game\"))\n",
    ")\n",
    "kills_per_game.show(10)"
   ]
  },
  {
   "cell_type": "markdown",
   "id": "ae1b719d-4d9a-484f-b6f0-6940c2e5bcb9",
   "metadata": {},
   "source": [
    "## 🗂️ Most Frequently Played Playlists\n",
    "\n",
    "- Analyzes `bucketed_matches` to identify high-volume playlists\n",
    "- Groups the data by `playlist_id`\n",
    "- Counts the number of matches associated with each playlist\n",
    "- Sorts the result in descending order of match count\n",
    "- Highlights the top 10 most played playlists\n"
   ]
  },
  {
   "cell_type": "code",
   "execution_count": 8,
   "id": "185f8124-3bff-4553-9870-f0daa25e6899",
   "metadata": {},
   "outputs": [
    {
     "name": "stdout",
     "output_type": "stream",
     "text": [
      "+--------------------+-----+\n",
      "|         playlist_id|count|\n",
      "+--------------------+-----+\n",
      "|f72e0ef0-7c4a-430...| 9350|\n",
      "|2323b76a-db98-4e0...| 3244|\n",
      "|892189e9-d712-4bd...| 2159|\n",
      "|c98949ae-60a8-43d...| 1984|\n",
      "|b50c4dc2-6c86-4d7...| 1462|\n",
      "|0e39ead4-383b-445...|  909|\n",
      "|f27a65eb-2d11-496...|  701|\n",
      "|d0766624-dbd7-453...|  643|\n",
      "|0bcf2be1-3168-4e4...|  564|\n",
      "|780cc101-005c-4fc...|  527|\n",
      "+--------------------+-----+\n",
      "only showing top 10 rows\n",
      "\n"
     ]
    }
   ],
   "source": [
    "# 4b. Which playlist gets played the most?\n",
    "#     Count the number of matches per playlist using bucketed_matches.\n",
    "most_played_playlist = (\n",
    "    bucketed_matches\n",
    "    .groupBy(\"playlist_id\")\n",
    "    .count()\n",
    "    .orderBy(desc(\"count\"))\n",
    ")\n",
    "most_played_playlist.show(10)"
   ]
  },
  {
   "cell_type": "markdown",
   "id": "12062272-52e0-4903-b120-edc39f4cca8e",
   "metadata": {},
   "source": [
    "## 🗺️ Most Frequently Played Maps\n",
    "\n",
    "- Joins `bucketed_matches` with the broadcasted `maps` table on `mapid`\n",
    "- Groups the results by map `name`\n",
    "- Counts how often each map appears across matches\n",
    "- Sorts by descending frequency\n",
    "- Displays the top 10 most played maps based on match volume\n"
   ]
  },
  {
   "cell_type": "code",
   "execution_count": 29,
   "id": "f92720c2-6270-4cf3-ac15-320dbc451d67",
   "metadata": {},
   "outputs": [
    {
     "name": "stdout",
     "output_type": "stream",
     "text": [
      "+--------------+-----+\n",
      "|          name|count|\n",
      "+--------------+-----+\n",
      "|Breakout Arena| 8587|\n",
      "|        Empire| 1489|\n",
      "|        Alpine| 1461|\n",
      "|       The Rig| 1088|\n",
      "|       Glacier| 1052|\n",
      "|         Truth| 1036|\n",
      "|         Plaza|  996|\n",
      "|        Regret|  982|\n",
      "|      Coliseum|  971|\n",
      "|          Eden|  915|\n",
      "+--------------+-----+\n",
      "only showing top 10 rows\n",
      "\n"
     ]
    }
   ],
   "source": [
    "# 4c. Which map gets played the most?\n",
    "#     Join bucketed_matches with maps to get map names, then count.\n",
    "most_played_map = (\n",
    "    bucketed_matches\n",
    "    .join(maps_df, bucketed_matches[\"mapid\"] == maps_df[\"mapid\"])\n",
    "    .groupBy(maps_df[\"name\"])\n",
    "    .count()\n",
    "    .orderBy(desc(\"count\"))\n",
    ")\n",
    "most_played_map.show(10)"
   ]
  },
  {
   "cell_type": "markdown",
   "id": "cd538e25-4a40-461c-afae-610c2769637a",
   "metadata": {},
   "source": [
    "## 🏅 Maps with the Most Killing Spree Medals\n",
    "\n",
    "- Filters medal data to include only records labeled \"Killing Spree\"\n",
    "- Joins the filtered medal-player data with `bucketed_matches` on `match_id`\n",
    "- Joins the result with the broadcasted `maps` table on `mapid`\n",
    "- Groups by map `name` to count occurrences of Killing Spree medals per map\n",
    "- Displays the top 10 maps where players earn this medal most often\n"
   ]
  },
  {
   "cell_type": "code",
   "execution_count": 22,
   "id": "0cfe149e-506e-4bca-9851-0076d57dd959",
   "metadata": {},
   "outputs": [
    {
     "name": "stdout",
     "output_type": "stream",
     "text": [
      "+--------------+-----+\n",
      "|          name|count|\n",
      "+--------------+-----+\n",
      "|Breakout Arena| 6559|\n",
      "|        Alpine| 4346|\n",
      "|       Glacier| 2617|\n",
      "|        Empire| 1996|\n",
      "|         Truth| 1765|\n",
      "|       The Rig| 1747|\n",
      "|         Plaza| 1671|\n",
      "|      Coliseum| 1653|\n",
      "|        Regret| 1558|\n",
      "|          Eden| 1551|\n",
      "+--------------+-----+\n",
      "only showing top 10 rows\n",
      "\n"
     ]
    }
   ],
   "source": [
    "killing_spree = (\n",
    "    bucketed_medals_matches_players\n",
    "    .join(medals_df, \"medal_id\")\n",
    "    .filter(col(\"name\") == \"Killing Spree\")\n",
    "    .join(bucketed_matches, \"match_id\")\n",
    "    .join(maps_df, bucketed_matches[\"mapid\"] == maps_df[\"mapid\"])\n",
    "    .groupBy(maps_df[\"name\"])\n",
    "    .count()\n",
    "    .orderBy(desc(\"count\"))\n",
    ")\n",
    "killing_spree.show(10)"
   ]
  },
  {
   "cell_type": "markdown",
   "id": "2e53ad48-51ee-4cb6-98b6-4e86b24f5a14",
   "metadata": {},
   "source": [
    "## 🧪 Partition Sorting for Storage Optimization\n",
    "\n",
    "- Applies `.sortWithinPartitions()` on `bucketed_matches` using three keys:\n",
    "  - `playlist_id`\n",
    "  - `mapid`\n",
    "  - `completion_date`\n",
    "- Writes each sorted DataFrame to a Parquet file\n",
    "- Goal: compare output sizes to identify which sort key results in the smallest on-disk footprint\n",
    "- Helps determine the most efficient sort strategy for downstream performance\n"
   ]
  },
  {
   "cell_type": "code",
   "execution_count": 24,
   "id": "6641d87c-c552-4291-9a2d-e5c7c928de9e",
   "metadata": {},
   "outputs": [
    {
     "name": "stderr",
     "output_type": "stream",
     "text": [
      "25/07/10 18:22:32 WARN MemoryManager: Total allocation exceeds 95.00% (1,020,054,720 bytes) of heap memory\n",
      "Scaling row group sizes to 95.00% for 8 writers\n",
      "25/07/10 18:22:32 WARN MemoryManager: Total allocation exceeds 95.00% (1,020,054,720 bytes) of heap memory\n",
      "Scaling row group sizes to 84.44% for 9 writers\n",
      "25/07/10 18:22:32 WARN MemoryManager: Total allocation exceeds 95.00% (1,020,054,720 bytes) of heap memory\n",
      "Scaling row group sizes to 95.00% for 8 writers\n"
     ]
    }
   ],
   "source": [
    "sorted_by_playlist = bucketed_matches.sortWithinPartitions(\"playlist_id\")\n",
    "sorted_by_playlist.write.mode(\"overwrite\").parquet(\"/tmp/sorted_by_playlist\")\n",
    "\n",
    "sorted_by_map = bucketed_matches.sortWithinPartitions(\"mapid\")\n",
    "sorted_by_map.write.mode(\"overwrite\").parquet(\"/tmp/sorted_by_map\")\n",
    "\n",
    "sorted_by_date = bucketed_matches.sortWithinPartitions(\"completion_date\")\n",
    "sorted_by_date.write.mode(\"overwrite\").parquet(\"/tmp/sorted_by_date\")"
   ]
  },
  {
   "cell_type": "code",
   "execution_count": null,
   "id": "9afbc4b3-6949-481a-8fc1-1ceac50f8914",
   "metadata": {},
   "outputs": [],
   "source": [
    "# Clean up\n",
    "spark.stop()"
   ]
  }
 ],
 "metadata": {
  "kernelspec": {
   "display_name": "Python 3 (ipykernel)",
   "language": "python",
   "name": "python3"
  },
  "language_info": {
   "codemirror_mode": {
    "name": "ipython",
    "version": 3
   },
   "file_extension": ".py",
   "mimetype": "text/x-python",
   "name": "python",
   "nbconvert_exporter": "python",
   "pygments_lexer": "ipython3",
   "version": "3.10.16"
  }
 },
 "nbformat": 4,
 "nbformat_minor": 5
}
